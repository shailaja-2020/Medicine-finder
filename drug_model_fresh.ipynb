{
  "nbformat": 4,
  "nbformat_minor": 0,
  "metadata": {
    "colab": {
      "name": "drug model fresh.ipynb",
      "provenance": []
    },
    "kernelspec": {
      "display_name": "Python 3",
      "language": "python",
      "name": "python3"
    },
    "language_info": {
      "codemirror_mode": {
        "name": "ipython",
        "version": 3
      },
      "file_extension": ".py",
      "mimetype": "text/x-python",
      "name": "python",
      "nbconvert_exporter": "python",
      "pygments_lexer": "ipython3",
      "version": "3.8.8"
    }
  },
  "cells": [
    {
      "cell_type": "markdown",
      "metadata": {
        "id": "Q2DlacZvqY5v"
      },
      "source": [
        "## Modelling"
      ]
    },
    {
      "cell_type": "code",
      "metadata": {
        "id": "qaFdfjtCqY51"
      },
      "source": [
        "import pandas as pd\n",
        "import numpy as np\n",
        "\n",
        "import matplotlib.pyplot as plt\n",
        "\n",
        "from scipy import stats"
      ],
      "execution_count": 1,
      "outputs": []
    },
    {
      "cell_type": "code",
      "metadata": {
        "id": "3aaysIVaqY54",
        "colab": {
          "resources": {
            "http://localhost:8080/nbextensions/google.colab/files.js": {
              "data": "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",
              "ok": true,
              "headers": [
                [
                  "content-type",
                  "application/javascript"
                ]
              ],
              "status": 200,
              "status_text": ""
            }
          },
          "base_uri": "https://localhost:8080/",
          "height": 72
        },
        "outputId": "f80781db-d208-4bfd-c632-d2caf620f8e9"
      },
      "source": [
        "from google.colab  import files\n",
        "uploaded2 = files.upload()"
      ],
      "execution_count": 3,
      "outputs": [
        {
          "output_type": "display_data",
          "data": {
            "text/html": [
              "\n",
              "     <input type=\"file\" id=\"files-70ae4ff9-ee71-4091-93cb-33bc4187b861\" name=\"files[]\" multiple disabled\n",
              "        style=\"border:none\" />\n",
              "     <output id=\"result-70ae4ff9-ee71-4091-93cb-33bc4187b861\">\n",
              "      Upload widget is only available when the cell has been executed in the\n",
              "      current browser session. Please rerun this cell to enable.\n",
              "      </output>\n",
              "      <script src=\"/nbextensions/google.colab/files.js\"></script> "
            ],
            "text/plain": [
              "<IPython.core.display.HTML object>"
            ]
          },
          "metadata": {
            "tags": []
          }
        },
        {
          "output_type": "stream",
          "text": [
            "Saving drg1.xlsx to drg1.xlsx\n"
          ],
          "name": "stdout"
        }
      ]
    },
    {
      "cell_type": "code",
      "metadata": {
        "id": "2HtQzsyV35LD"
      },
      "source": [
        "import pandas as pd\n",
        "import io\n",
        "  \n",
        "df7= pd.read_excel(io.BytesIO(uploaded2[\"drg1.xlsx\"]))\n"
      ],
      "execution_count": 5,
      "outputs": []
    },
    {
      "cell_type": "markdown",
      "metadata": {
        "id": "VeqTg2hdqY55"
      },
      "source": [
        "# Vader Lexicon for sentiment score"
      ]
    },
    {
      "cell_type": "code",
      "metadata": {
        "colab": {
          "base_uri": "https://localhost:8080/"
        },
        "id": "7E9mR1oqqY56",
        "outputId": "80e856a5-3897-477d-bff8-df3d579c913e"
      },
      "source": [
        "import nltk\n",
        "nltk.download('vader_lexicon')\n",
        "from nltk.sentiment.vader import SentimentIntensityAnalyzer\n",
        "\n",
        "sid = SentimentIntensityAnalyzer()\n"
      ],
      "execution_count": 6,
      "outputs": [
        {
          "output_type": "stream",
          "text": [
            "[nltk_data] Downloading package vader_lexicon to /root/nltk_data...\n"
          ],
          "name": "stdout"
        },
        {
          "output_type": "stream",
          "text": [
            "/usr/local/lib/python3.7/dist-packages/nltk/twitter/__init__.py:20: UserWarning: The twython library has not been installed. Some functionality from the twitter package will not be available.\n",
            "  warnings.warn(\"The twython library has not been installed. \"\n"
          ],
          "name": "stderr"
        }
      ]
    },
    {
      "cell_type": "code",
      "metadata": {
        "id": "-75SN6xeqY59"
      },
      "source": [
        "df7['Sentiment'] = (df7['Reviews'].apply(lambda review: sid.polarity_scores(str(review))['compound'])\n",
        "                  ).apply(lambda c: 'Positive' if c >0 else 'Not Positive')"
      ],
      "execution_count": 7,
      "outputs": []
    },
    {
      "cell_type": "code",
      "metadata": {
        "id": "arSHpwMOqY5-"
      },
      "source": [
        "df=df7.dropna()"
      ],
      "execution_count": 8,
      "outputs": []
    },
    {
      "cell_type": "code",
      "metadata": {
        "colab": {
          "base_uri": "https://localhost:8080/",
          "height": 289
        },
        "id": "-350SMbc9hYP",
        "outputId": "b8989b3a-bd24-4441-cf6a-2bd71753522a"
      },
      "source": [
        "df.head()"
      ],
      "execution_count": 9,
      "outputs": [
        {
          "output_type": "execute_result",
          "data": {
            "text/html": [
              "<div>\n",
              "<style scoped>\n",
              "    .dataframe tbody tr th:only-of-type {\n",
              "        vertical-align: middle;\n",
              "    }\n",
              "\n",
              "    .dataframe tbody tr th {\n",
              "        vertical-align: top;\n",
              "    }\n",
              "\n",
              "    .dataframe thead th {\n",
              "        text-align: right;\n",
              "    }\n",
              "</style>\n",
              "<table border=\"1\" class=\"dataframe\">\n",
              "  <thead>\n",
              "    <tr style=\"text-align: right;\">\n",
              "      <th></th>\n",
              "      <th>Condition</th>\n",
              "      <th>Age</th>\n",
              "      <th>Sex</th>\n",
              "      <th>Drug</th>\n",
              "      <th>EaseofUse</th>\n",
              "      <th>Effectiveness</th>\n",
              "      <th>Satisfaction</th>\n",
              "      <th>Reviews</th>\n",
              "      <th>Sides</th>\n",
              "      <th>Sentiment</th>\n",
              "    </tr>\n",
              "  </thead>\n",
              "  <tbody>\n",
              "    <tr>\n",
              "      <th>0</th>\n",
              "      <td>\"Change of Life\" Signs</td>\n",
              "      <td>13-18</td>\n",
              "      <td>Female</td>\n",
              "      <td>celexa</td>\n",
              "      <td>4.00</td>\n",
              "      <td>1.75</td>\n",
              "      <td>1.25</td>\n",
              "      <td>i really dont like this antidepressant it give...</td>\n",
              "      <td>Nausea ,  dry mouth , loss of appetite, tiredn...</td>\n",
              "      <td>Not Positive</td>\n",
              "    </tr>\n",
              "    <tr>\n",
              "      <th>1</th>\n",
              "      <td>\"Change of Life\" Signs</td>\n",
              "      <td>13-18</td>\n",
              "      <td>Female</td>\n",
              "      <td>citalopram hbr</td>\n",
              "      <td>3.50</td>\n",
              "      <td>3.00</td>\n",
              "      <td>2.00</td>\n",
              "      <td>,i think it made my memory worse but that cou...</td>\n",
              "      <td>Nausea ,  dry mouth , loss of appetite, tiredn...</td>\n",
              "      <td>Not Positive</td>\n",
              "    </tr>\n",
              "    <tr>\n",
              "      <th>2</th>\n",
              "      <td>\"Change of Life\" Signs</td>\n",
              "      <td>13-18</td>\n",
              "      <td>Female</td>\n",
              "      <td>clonidine hcl</td>\n",
              "      <td>3.25</td>\n",
              "      <td>3.00</td>\n",
              "      <td>2.25</td>\n",
              "      <td>doctor prescribed this for my anxiety disorder...</td>\n",
              "      <td>Dizziness ,  lightheadedness , drowsiness,  dr...</td>\n",
              "      <td>Positive</td>\n",
              "    </tr>\n",
              "    <tr>\n",
              "      <th>3</th>\n",
              "      <td>\"Change of Life\" Signs</td>\n",
              "      <td>13-18</td>\n",
              "      <td>Female</td>\n",
              "      <td>clonidine hcl er</td>\n",
              "      <td>3.25</td>\n",
              "      <td>3.00</td>\n",
              "      <td>2.25</td>\n",
              "      <td>doctor prescribed this for my anxiety disorder...</td>\n",
              "      <td>Dizziness ,  lightheadedness , drowsiness, tir...</td>\n",
              "      <td>Positive</td>\n",
              "    </tr>\n",
              "    <tr>\n",
              "      <th>4</th>\n",
              "      <td>\"Change of Life\" Signs</td>\n",
              "      <td>13-18</td>\n",
              "      <td>Female</td>\n",
              "      <td>estrogen-methyltestosterone</td>\n",
              "      <td>5.00</td>\n",
              "      <td>4.00</td>\n",
              "      <td>5.00</td>\n",
              "      <td>sunshine sunshine ladybugs away clap your hove...</td>\n",
              "      <td>Dizziness ,  lightheadedness ,  headache ,  st...</td>\n",
              "      <td>Positive</td>\n",
              "    </tr>\n",
              "  </tbody>\n",
              "</table>\n",
              "</div>"
            ],
            "text/plain": [
              "                Condition  ...     Sentiment\n",
              "0  \"Change of Life\" Signs  ...  Not Positive\n",
              "1  \"Change of Life\" Signs  ...  Not Positive\n",
              "2  \"Change of Life\" Signs  ...      Positive\n",
              "3  \"Change of Life\" Signs  ...      Positive\n",
              "4  \"Change of Life\" Signs  ...      Positive\n",
              "\n",
              "[5 rows x 10 columns]"
            ]
          },
          "metadata": {
            "tags": []
          },
          "execution_count": 9
        }
      ]
    },
    {
      "cell_type": "code",
      "metadata": {
        "id": "XHPMbJOOqY6D"
      },
      "source": [
        "df['Reviews']=df['Reviews'].astype('str')"
      ],
      "execution_count": 10,
      "outputs": []
    },
    {
      "cell_type": "code",
      "metadata": {
        "colab": {
          "base_uri": "https://localhost:8080/",
          "height": 371
        },
        "id": "6Wbs7Zb4qY6F",
        "outputId": "ed6b07d3-9265-45d9-da58-4b76ec1672f1"
      },
      "source": [
        "df.tail()"
      ],
      "execution_count": null,
      "outputs": [
        {
          "output_type": "execute_result",
          "data": {
            "text/html": [
              "<div>\n",
              "<style scoped>\n",
              "    .dataframe tbody tr th:only-of-type {\n",
              "        vertical-align: middle;\n",
              "    }\n",
              "\n",
              "    .dataframe tbody tr th {\n",
              "        vertical-align: top;\n",
              "    }\n",
              "\n",
              "    .dataframe thead th {\n",
              "        text-align: right;\n",
              "    }\n",
              "</style>\n",
              "<table border=\"1\" class=\"dataframe\">\n",
              "  <thead>\n",
              "    <tr style=\"text-align: right;\">\n",
              "      <th></th>\n",
              "      <th>Condition</th>\n",
              "      <th>Drug</th>\n",
              "      <th>Age</th>\n",
              "      <th>Sex</th>\n",
              "      <th>EaseofUse</th>\n",
              "      <th>Effectiveness</th>\n",
              "      <th>Satisfaction</th>\n",
              "      <th>Reviews</th>\n",
              "      <th>Sides</th>\n",
              "      <th>Sentiment</th>\n",
              "    </tr>\n",
              "  </thead>\n",
              "  <tbody>\n",
              "    <tr>\n",
              "      <th>99043</th>\n",
              "      <td>neurotrophic keratitis</td>\n",
              "      <td>oxervate drops</td>\n",
              "      <td>55-64</td>\n",
              "      <td>Female</td>\n",
              "      <td>3</td>\n",
              "      <td>3</td>\n",
              "      <td>1</td>\n",
              "      <td>iã¢m on week  and the pain from light sensitiv...</td>\n",
              "      <td>Eye  discomfort, pain, redness, watery  eyes ,...</td>\n",
              "      <td>Not Positive</td>\n",
              "    </tr>\n",
              "    <tr>\n",
              "      <th>99044</th>\n",
              "      <td>osteoporosis in postmenopausal woman at high r...</td>\n",
              "      <td>tymlos pen injector</td>\n",
              "      <td>55-64</td>\n",
              "      <td>Female</td>\n",
              "      <td>5</td>\n",
              "      <td>1</td>\n",
              "      <td>1</td>\n",
              "      <td>itâ€™s easy to do but no where on the side eff...</td>\n",
              "      <td>Dizziness  or fast heartbeat may occur within ...</td>\n",
              "      <td>Not Positive</td>\n",
              "    </tr>\n",
              "    <tr>\n",
              "      <th>99045</th>\n",
              "      <td>osteoporosis in postmenopausal woman at high r...</td>\n",
              "      <td>tymlos pen injector</td>\n",
              "      <td>55-64</td>\n",
              "      <td>Female</td>\n",
              "      <td>5</td>\n",
              "      <td>5</td>\n",
              "      <td>4</td>\n",
              "      <td>i do have about a two hour increase in heart r...</td>\n",
              "      <td>Dizziness  or fast heartbeat may occur within ...</td>\n",
              "      <td>Positive</td>\n",
              "    </tr>\n",
              "    <tr>\n",
              "      <th>99046</th>\n",
              "      <td>seborrheic dermatitis of scalp</td>\n",
              "      <td>ciclopirox shampoo</td>\n",
              "      <td>65-74</td>\n",
              "      <td>Male</td>\n",
              "      <td>4</td>\n",
              "      <td>3</td>\n",
              "      <td>2</td>\n",
              "      <td>worked for a while slowly started to work less...</td>\n",
              "      <td>Burning, redness, or  itching  at the applicat...</td>\n",
              "      <td>Not Positive</td>\n",
              "    </tr>\n",
              "    <tr>\n",
              "      <th>99047</th>\n",
              "      <td>seborrheic dermatitis of scalp</td>\n",
              "      <td>ciclopirox solution, non-</td>\n",
              "      <td>65-74</td>\n",
              "      <td>Male</td>\n",
              "      <td>4</td>\n",
              "      <td>3</td>\n",
              "      <td>2</td>\n",
              "      <td>worked for a while slowly started to work less...</td>\n",
              "      <td>Redness/burning of treated  skin  or changes i...</td>\n",
              "      <td>Not Positive</td>\n",
              "    </tr>\n",
              "  </tbody>\n",
              "</table>\n",
              "</div>"
            ],
            "text/plain": [
              "                                               Condition  ...     Sentiment\n",
              "99043                             neurotrophic keratitis  ...  Not Positive\n",
              "99044  osteoporosis in postmenopausal woman at high r...  ...  Not Positive\n",
              "99045  osteoporosis in postmenopausal woman at high r...  ...      Positive\n",
              "99046                     seborrheic dermatitis of scalp  ...  Not Positive\n",
              "99047                     seborrheic dermatitis of scalp  ...  Not Positive\n",
              "\n",
              "[5 rows x 10 columns]"
            ]
          },
          "metadata": {
            "tags": []
          },
          "execution_count": 8
        }
      ]
    },
    {
      "cell_type": "code",
      "metadata": {
        "colab": {
          "base_uri": "https://localhost:8080/",
          "height": 103
        },
        "id": "SDHoHWGtqY6H",
        "outputId": "0c309d19-0506-422f-a554-d6c44222b5e9"
      },
      "source": [
        "df.Reviews[0]"
      ],
      "execution_count": 11,
      "outputs": [
        {
          "output_type": "execute_result",
          "data": {
            "application/vnd.google.colaboratory.intrinsic+json": {
              "type": "string"
            },
            "text/plain": [
              "'i really dont like this antidepressant it gives me bad headaches but helps with the mood swings and the irritation,i took celexa for severe pms symptoms i felt fine during my cycle but afterwards my normal period symptoms intisified so i decided to stop taking it i experienced awful withdrawal symptoms for about a week and a half dramamine and fruit helped ease my nausea also if you are experiencing bad withdrawal symptoms be careful what pain killers you use for headaches tylenol made me get sick  also naps helped alot so if you have the opportunity to rest do it and know that it will go away ,i took this medication for depressionptsdand anxiety and it only took  days and i was having severe suicidal thoughts and tendencys ,i feel like it didnt work'"
            ]
          },
          "metadata": {
            "tags": []
          },
          "execution_count": 11
        }
      ]
    },
    {
      "cell_type": "code",
      "metadata": {
        "colab": {
          "base_uri": "https://localhost:8080/"
        },
        "id": "cAZVqq4qqY6I",
        "outputId": "eeb549cb-208f-43a6-f5e0-c5d8da64f95e"
      },
      "source": [
        "df.shape"
      ],
      "execution_count": 12,
      "outputs": [
        {
          "output_type": "execute_result",
          "data": {
            "text/plain": [
              "(58860, 10)"
            ]
          },
          "metadata": {
            "tags": []
          },
          "execution_count": 12
        }
      ]
    },
    {
      "cell_type": "markdown",
      "metadata": {
        "id": "eQYGzGevqY6J"
      },
      "source": [
        "#  Logistic Regression model"
      ]
    },
    {
      "cell_type": "code",
      "metadata": {
        "colab": {
          "base_uri": "https://localhost:8080/"
        },
        "id": "bY59dTdHqY6K",
        "outputId": "19d09697-216e-4ff8-e30d-7ef7923b2340"
      },
      "source": [
        "!pip install Pipeline\n",
        "!pip install pipeline"
      ],
      "execution_count": 13,
      "outputs": [
        {
          "output_type": "stream",
          "text": [
            "Collecting Pipeline\n",
            "  Downloading pipeline-0.1.0-py3-none-any.whl (2.6 kB)\n",
            "Installing collected packages: Pipeline\n",
            "Successfully installed Pipeline-0.1.0\n",
            "Requirement already satisfied: pipeline in /usr/local/lib/python3.7/dist-packages (0.1.0)\n"
          ],
          "name": "stdout"
        }
      ]
    },
    {
      "cell_type": "code",
      "metadata": {
        "id": "WnV4k8oFqY6L"
      },
      "source": [
        "    #def slog(rev2):\n",
        "    from sklearn.feature_extraction.text import TfidfVectorizer\n",
        "    from sklearn.pipeline import Pipeline\n",
        "    from sklearn.model_selection import train_test_split\n",
        "    from sklearn.linear_model import LogisticRegression\n",
        "    from sklearn.metrics import classification_report,confusion_matrix,accuracy_score\n",
        "    tfidf_v=TfidfVectorizer()\n",
        "    X=df.Reviews\n",
        "    y=df.Sentiment\n",
        "    X_train, X_test, y_train, y_test = train_test_split(X, y, test_size=0.25, random_state=365)\n",
        "    model= Pipeline([('tfidf', TfidfVectorizer()),\n",
        "                         ('log', LogisticRegression(penalty='l2',multi_class='auto',class_weight = 'balanced',solver = 'liblinear',intercept_scaling=.005)),])\n",
        "        \n",
        "    model.fit(X_train,y_train)\n",
        "    y_testpred=model.predict(X_test)\n",
        "    y_trainpred=model.predict(X_train)\n",
        "    #return model.predict(rev2['COl'])\n"
      ],
      "execution_count": 14,
      "outputs": []
    },
    {
      "cell_type": "code",
      "metadata": {
        "colab": {
          "base_uri": "https://localhost:8080/"
        },
        "id": "laC6E4Xg-V4d",
        "outputId": "4890ada7-9042-46e6-9ef9-292c89008b77"
      },
      "source": [
        "y_testpred"
      ],
      "execution_count": 15,
      "outputs": [
        {
          "output_type": "execute_result",
          "data": {
            "text/plain": [
              "array(['Positive', 'Not Positive', 'Not Positive', ..., 'Not Positive',\n",
              "       'Not Positive', 'Not Positive'], dtype=object)"
            ]
          },
          "metadata": {
            "tags": []
          },
          "execution_count": 15
        }
      ]
    },
    {
      "cell_type": "code",
      "metadata": {
        "id": "CnvaWu5t7oTG"
      },
      "source": [
        "df['Prediction'] = model.predict(X)"
      ],
      "execution_count": 16,
      "outputs": []
    },
    {
      "cell_type": "code",
      "metadata": {
        "colab": {
          "base_uri": "https://localhost:8080/",
          "height": 340
        },
        "id": "GYcibxTg-eCC",
        "outputId": "b8f75f43-54c6-425c-c2d3-e50288805529"
      },
      "source": [
        "df.head(5)\n"
      ],
      "execution_count": 17,
      "outputs": [
        {
          "output_type": "execute_result",
          "data": {
            "text/html": [
              "<div>\n",
              "<style scoped>\n",
              "    .dataframe tbody tr th:only-of-type {\n",
              "        vertical-align: middle;\n",
              "    }\n",
              "\n",
              "    .dataframe tbody tr th {\n",
              "        vertical-align: top;\n",
              "    }\n",
              "\n",
              "    .dataframe thead th {\n",
              "        text-align: right;\n",
              "    }\n",
              "</style>\n",
              "<table border=\"1\" class=\"dataframe\">\n",
              "  <thead>\n",
              "    <tr style=\"text-align: right;\">\n",
              "      <th></th>\n",
              "      <th>Condition</th>\n",
              "      <th>Age</th>\n",
              "      <th>Sex</th>\n",
              "      <th>Drug</th>\n",
              "      <th>EaseofUse</th>\n",
              "      <th>Effectiveness</th>\n",
              "      <th>Satisfaction</th>\n",
              "      <th>Reviews</th>\n",
              "      <th>Sides</th>\n",
              "      <th>Sentiment</th>\n",
              "      <th>Prediction</th>\n",
              "    </tr>\n",
              "  </thead>\n",
              "  <tbody>\n",
              "    <tr>\n",
              "      <th>0</th>\n",
              "      <td>\"Change of Life\" Signs</td>\n",
              "      <td>13-18</td>\n",
              "      <td>Female</td>\n",
              "      <td>celexa</td>\n",
              "      <td>4.00</td>\n",
              "      <td>1.75</td>\n",
              "      <td>1.25</td>\n",
              "      <td>i really dont like this antidepressant it give...</td>\n",
              "      <td>Nausea ,  dry mouth , loss of appetite, tiredn...</td>\n",
              "      <td>Not Positive</td>\n",
              "      <td>Not Positive</td>\n",
              "    </tr>\n",
              "    <tr>\n",
              "      <th>1</th>\n",
              "      <td>\"Change of Life\" Signs</td>\n",
              "      <td>13-18</td>\n",
              "      <td>Female</td>\n",
              "      <td>citalopram hbr</td>\n",
              "      <td>3.50</td>\n",
              "      <td>3.00</td>\n",
              "      <td>2.00</td>\n",
              "      <td>,i think it made my memory worse but that cou...</td>\n",
              "      <td>Nausea ,  dry mouth , loss of appetite, tiredn...</td>\n",
              "      <td>Not Positive</td>\n",
              "      <td>Not Positive</td>\n",
              "    </tr>\n",
              "    <tr>\n",
              "      <th>2</th>\n",
              "      <td>\"Change of Life\" Signs</td>\n",
              "      <td>13-18</td>\n",
              "      <td>Female</td>\n",
              "      <td>clonidine hcl</td>\n",
              "      <td>3.25</td>\n",
              "      <td>3.00</td>\n",
              "      <td>2.25</td>\n",
              "      <td>doctor prescribed this for my anxiety disorder...</td>\n",
              "      <td>Dizziness ,  lightheadedness , drowsiness,  dr...</td>\n",
              "      <td>Positive</td>\n",
              "      <td>Not Positive</td>\n",
              "    </tr>\n",
              "    <tr>\n",
              "      <th>3</th>\n",
              "      <td>\"Change of Life\" Signs</td>\n",
              "      <td>13-18</td>\n",
              "      <td>Female</td>\n",
              "      <td>clonidine hcl er</td>\n",
              "      <td>3.25</td>\n",
              "      <td>3.00</td>\n",
              "      <td>2.25</td>\n",
              "      <td>doctor prescribed this for my anxiety disorder...</td>\n",
              "      <td>Dizziness ,  lightheadedness , drowsiness, tir...</td>\n",
              "      <td>Positive</td>\n",
              "      <td>Not Positive</td>\n",
              "    </tr>\n",
              "    <tr>\n",
              "      <th>4</th>\n",
              "      <td>\"Change of Life\" Signs</td>\n",
              "      <td>13-18</td>\n",
              "      <td>Female</td>\n",
              "      <td>estrogen-methyltestosterone</td>\n",
              "      <td>5.00</td>\n",
              "      <td>4.00</td>\n",
              "      <td>5.00</td>\n",
              "      <td>sunshine sunshine ladybugs away clap your hove...</td>\n",
              "      <td>Dizziness ,  lightheadedness ,  headache ,  st...</td>\n",
              "      <td>Positive</td>\n",
              "      <td>Positive</td>\n",
              "    </tr>\n",
              "  </tbody>\n",
              "</table>\n",
              "</div>"
            ],
            "text/plain": [
              "                Condition    Age  ...     Sentiment    Prediction\n",
              "0  \"Change of Life\" Signs  13-18  ...  Not Positive  Not Positive\n",
              "1  \"Change of Life\" Signs  13-18  ...  Not Positive  Not Positive\n",
              "2  \"Change of Life\" Signs  13-18  ...      Positive  Not Positive\n",
              "3  \"Change of Life\" Signs  13-18  ...      Positive  Not Positive\n",
              "4  \"Change of Life\" Signs  13-18  ...      Positive      Positive\n",
              "\n",
              "[5 rows x 11 columns]"
            ]
          },
          "metadata": {
            "tags": []
          },
          "execution_count": 17
        }
      ]
    },
    {
      "cell_type": "code",
      "metadata": {
        "id": "pA4adPB23Q1t"
      },
      "source": [
        "dg = df.groupby(['Condition','Age', 'Sex','Drug'], group_keys=False).apply(lambda x: x.sample(min(len(x), 20)))"
      ],
      "execution_count": 18,
      "outputs": []
    },
    {
      "cell_type": "code",
      "metadata": {
        "colab": {
          "base_uri": "https://localhost:8080/"
        },
        "id": "HRfxTRkA3Q1t",
        "outputId": "f4f0aed3-8e40-40d9-cefb-5e29792bee7b"
      },
      "source": [
        "dg.head"
      ],
      "execution_count": 19,
      "outputs": [
        {
          "output_type": "execute_result",
          "data": {
            "text/plain": [
              "<bound method NDFrame.head of                             Condition    Age  ...     Sentiment    Prediction\n",
              "0              \"Change of Life\" Signs  13-18  ...  Not Positive  Not Positive\n",
              "1              \"Change of Life\" Signs  13-18  ...  Not Positive  Not Positive\n",
              "2              \"Change of Life\" Signs  13-18  ...      Positive  Not Positive\n",
              "3              \"Change of Life\" Signs  13-18  ...      Positive  Not Positive\n",
              "4              \"Change of Life\" Signs  13-18  ...      Positive      Positive\n",
              "...                               ...    ...  ...           ...           ...\n",
              "58855  seborrheic dermatitis of scalp  65-74  ...  Not Positive  Not Positive\n",
              "58856  seborrheic dermatitis of scalp  65-74  ...  Not Positive  Not Positive\n",
              "58857  seborrheic dermatitis of scalp  65-74  ...  Not Positive  Not Positive\n",
              "58858  seborrheic dermatitis of scalp  65-74  ...  Not Positive  Not Positive\n",
              "58859  seborrheic dermatitis of scalp  65-74  ...  Not Positive  Not Positive\n",
              "\n",
              "[58860 rows x 11 columns]>"
            ]
          },
          "metadata": {
            "tags": []
          },
          "execution_count": 19
        }
      ]
    },
    {
      "cell_type": "code",
      "metadata": {
        "id": "BSUlgZAG-_-L"
      },
      "source": [
        "from google.colab import files\n",
        "dg.to_excel('Deploy_Project.xlsx')"
      ],
      "execution_count": 23,
      "outputs": []
    },
    {
      "cell_type": "code",
      "metadata": {
        "colab": {
          "base_uri": "https://localhost:8080/",
          "height": 17
        },
        "id": "xDXdfkvb_SsQ",
        "outputId": "950c6616-4028-44d4-b5c9-350648c717b2"
      },
      "source": [
        "files.download('Deployproject_Data.xlsx')"
      ],
      "execution_count": 24,
      "outputs": [
        {
          "output_type": "display_data",
          "data": {
            "application/javascript": [
              "\n",
              "    async function download(id, filename, size) {\n",
              "      if (!google.colab.kernel.accessAllowed) {\n",
              "        return;\n",
              "      }\n",
              "      const div = document.createElement('div');\n",
              "      const label = document.createElement('label');\n",
              "      label.textContent = `Downloading \"${filename}\": `;\n",
              "      div.appendChild(label);\n",
              "      const progress = document.createElement('progress');\n",
              "      progress.max = size;\n",
              "      div.appendChild(progress);\n",
              "      document.body.appendChild(div);\n",
              "\n",
              "      const buffers = [];\n",
              "      let downloaded = 0;\n",
              "\n",
              "      const channel = await google.colab.kernel.comms.open(id);\n",
              "      // Send a message to notify the kernel that we're ready.\n",
              "      channel.send({})\n",
              "\n",
              "      for await (const message of channel.messages) {\n",
              "        // Send a message to notify the kernel that we're ready.\n",
              "        channel.send({})\n",
              "        if (message.buffers) {\n",
              "          for (const buffer of message.buffers) {\n",
              "            buffers.push(buffer);\n",
              "            downloaded += buffer.byteLength;\n",
              "            progress.value = downloaded;\n",
              "          }\n",
              "        }\n",
              "      }\n",
              "      const blob = new Blob(buffers, {type: 'application/binary'});\n",
              "      const a = document.createElement('a');\n",
              "      a.href = window.URL.createObjectURL(blob);\n",
              "      a.download = filename;\n",
              "      div.appendChild(a);\n",
              "      a.click();\n",
              "      div.remove();\n",
              "    }\n",
              "  "
            ],
            "text/plain": [
              "<IPython.core.display.Javascript object>"
            ]
          },
          "metadata": {
            "tags": []
          }
        },
        {
          "output_type": "display_data",
          "data": {
            "application/javascript": [
              "download(\"download_a4f1591c-3a8f-406d-9dd2-cc781acd71b8\", \"Deployproject_Data.xlsx\", 26005715)"
            ],
            "text/plain": [
              "<IPython.core.display.Javascript object>"
            ]
          },
          "metadata": {
            "tags": []
          }
        }
      ]
    },
    {
      "cell_type": "code",
      "metadata": {
        "colab": {
          "base_uri": "https://localhost:8080/"
        },
        "id": "XFfWZcc2qY6N",
        "outputId": "79dbda37-0790-445a-ec76-2345b7cf374b"
      },
      "source": [
        "from sklearn.metrics import classification_report,confusion_matrix,accuracy_score\n",
        "\n",
        "print('accuracy on train set %s' % accuracy_score(y_train, y_trainpred))\n",
        "print('accuracy on test set %s' % accuracy_score(y_test, y_testpred))\n",
        "print(\"*******************************************************\")\n",
        "print(classification_report(y_test,y_testpred))\n",
        "print(confusion_matrix(y_test,y_testpred))\n",
        "  "
      ],
      "execution_count": 21,
      "outputs": [
        {
          "output_type": "stream",
          "text": [
            "accuracy on train set 0.890904972250538\n",
            "accuracy on test set 0.8464152225620115\n",
            "*******************************************************\n",
            "              precision    recall  f1-score   support\n",
            "\n",
            "Not Positive       0.92      0.84      0.88      9587\n",
            "    Positive       0.74      0.85      0.80      5128\n",
            "\n",
            "    accuracy                           0.85     14715\n",
            "   macro avg       0.83      0.85      0.84     14715\n",
            "weighted avg       0.86      0.85      0.85     14715\n",
            "\n",
            "[[8072 1515]\n",
            " [ 745 4383]]\n"
          ],
          "name": "stdout"
        }
      ]
    },
    {
      "cell_type": "code",
      "metadata": {
        "colab": {
          "base_uri": "https://localhost:8080/",
          "height": 295
        },
        "id": "WH8CnNi8qY6O",
        "outputId": "e5a3f269-ed3a-4010-e4c3-b329aba71347"
      },
      "source": [
        "import seaborn as sns\n",
        "import matplotlib.pyplot as plt     \n",
        "from sklearn.metrics import confusion_matrix\n",
        "cm1=confusion_matrix(y_test, y_testpred)\n",
        "ax= plt.subplot()\n",
        "sns.heatmap(cm1,annot=True, fmt='g', ax=ax);  #annot=True to annotate cells, ftm='g' to disable scientific notation\n",
        "# labels, title and ticks\n",
        "ax.set_xlabel('Predicted labels');ax.set_ylabel('True labels'); \n",
        "ax.set_title('Confusion Matrix Logistic')\n",
        "ax.xaxis.set_ticklabels(['Positive', 'Not positive']); ax.yaxis.set_ticklabels(['Positive', 'Not positive']);"
      ],
      "execution_count": 22,
      "outputs": [
        {
          "output_type": "display_data",
          "data": {
            "image/png": "[encoded data removed]",
            "text/plain": [
              "<Figure size 432x288 with 2 Axes>"
            ]
          },
          "metadata": {
            "tags": [],
            "needs_background": "light"
          }
        }
      ]
    },
    {
      "cell_type": "markdown",
      "metadata": {
        "id": "ccYfFSxlqY6P"
      },
      "source": [
        "# Multinomial Naive Bayes"
      ]
    },
    {
      "cell_type": "code",
      "metadata": {
        "id": "ruK4qS6_qY6P"
      },
      "source": [
        "    #def mnbf(rev2):\n",
        "    from sklearn.feature_extraction.text import TfidfVectorizer\n",
        "    from sklearn.model_selection import train_test_split\n",
        "    from sklearn.naive_bayes import MultinomialNB\n",
        "    from sklearn.metrics import classification_report,confusion_matrix,accuracy_score\n",
        "    tfidf_v=TfidfVectorizer()\n",
        "    X=df.Reviews\n",
        "    y=df.Sentiment\n",
        "    X_train, X_test, y_train, y_test = train_test_split(X, y, test_size=0.25, random_state=365)\n",
        "    modelmnb=Pipeline([('tfidf', TfidfVectorizer()),\n",
        "                         ('mnb', MultinomialNB()),])    \n",
        "    modelmnb.fit(X_train,y_train)\n",
        "    y_testpredm=modelmnb.predict(X_test)\n",
        "    y_trainpredm=modelmnb.predict(X_train)\n",
        "    #return modelmnb.predict(rev2['COl'])"
      ],
      "execution_count": null,
      "outputs": []
    },
    {
      "cell_type": "code",
      "metadata": {
        "id": "GmX9ehGpqY6Q"
      },
      "source": [
        "print('accuracy on train set %s' % accuracy_score(y_train, y_trainpredm))\n",
        "print('accuracy on test set %s' % accuracy_score(y_test, y_testpredm))\n",
        "print(\"*******************************************************\")\n",
        "print(classification_report(y_test,y_testpredm))\n",
        "print(confusion_matrix(y_test,y_testpredm))"
      ],
      "execution_count": null,
      "outputs": []
    },
    {
      "cell_type": "code",
      "metadata": {
        "id": "OtSd5NxeqY6Q"
      },
      "source": [
        "import seaborn as sns\n",
        "import matplotlib.pyplot as plt     \n",
        "from sklearn.metrics import confusion_matrix\n",
        "cm3=confusion_matrix(y_test, y_testpredm)\n",
        "ax= plt.subplot()\n",
        "sns.heatmap(cm3,annot=True, fmt='g', ax=ax);  #annot=True to annotate cells, ftm='g' to disable scientific notation\n",
        "# labels, title and ticks\n",
        "ax.set_xlabel('Predicted labels');ax.set_ylabel('True labels'); \n",
        "ax.set_title('Confusion Matrix Navie Bayes'); \n",
        "ax.xaxis.set_ticklabels(['Positive', 'Not positive']); ax.yaxis.set_ticklabels(['Positive', 'Not positive']);\n"
      ],
      "execution_count": null,
      "outputs": []
    },
    {
      "cell_type": "markdown",
      "metadata": {
        "id": "hlLeYy79qY6R"
      },
      "source": [
        "# Decision tree"
      ]
    },
    {
      "cell_type": "code",
      "metadata": {
        "id": "XdDG0qlqqY6R"
      },
      "source": [
        "    #def  dt(rev2):\n",
        "    from sklearn.feature_extraction.text import TfidfVectorizer\n",
        "    from sklearn.model_selection import train_test_split\n",
        "    from sklearn.tree import  DecisionTreeClassifier\n",
        "    from sklearn.metrics import classification_report,confusion_matrix,accuracy_score\n",
        "    tfidf_v=TfidfVectorizer()\n",
        "    X=df.Reviews\n",
        "    y=df.Sentiment\n",
        "    X_train, X_test, y_train, y_test = train_test_split(X, y, test_size=0.25, random_state=365)\n",
        "   \n",
        "    modeltree =Pipeline([('tfidf', TfidfVectorizer()),('decisiontree', DecisionTreeClassifier(criterion = 'entropy',max_depth=3))])\n",
        "    modeltree.fit(X_train,y_train)\n",
        "    y_testpredtr=modeltree.predict(X_test)\n",
        "    y_trainpredtr=modeltree.predict(X_train)\n",
        "    #return modeltree.predict(rev2['COl'])"
      ],
      "execution_count": null,
      "outputs": []
    },
    {
      "cell_type": "code",
      "metadata": {
        "id": "C_Ezv5_yqY6T"
      },
      "source": [
        "print('accuracy on train set %s' % accuracy_score(y_train, y_trainpredtr))\n",
        "print('accuracy on test set %s' % accuracy_score(y_test, y_testpredtr))\n",
        "print(\"*******************************************************\")\n",
        "print(classification_report(y_test,y_testpredtr))\n",
        "print(confusion_matrix(y_test,y_testpredtr))"
      ],
      "execution_count": null,
      "outputs": []
    },
    {
      "cell_type": "code",
      "metadata": {
        "id": "d6EbSfyGqY6U"
      },
      "source": [
        "import seaborn as sns\n",
        "import matplotlib.pyplot as plt     \n",
        "from sklearn.metrics import confusion_matrix\n",
        "cm4=confusion_matrix(y_test, y_testpredtr)\n",
        "ax= plt.subplot()\n",
        "sns.heatmap(cm4,annot=True, fmt='g', ax=ax);  #annot=True to annotate cells, ftm='g' to disable scientific notation\n",
        "# labels, title and ticks\n",
        "ax.set_xlabel('Predbbicted labels');ax.set_ylabel('True labels'); \n",
        "ax.set_title('Confusion Matrix Decision tree'); \n",
        "ax.xaxis.set_ticklabels(['Positive', 'Not positive']); ax.yaxis.set_ticklabels(['Positive', 'Not positive']);\n"
      ],
      "execution_count": null,
      "outputs": []
    },
    {
      "cell_type": "markdown",
      "metadata": {
        "id": "kvq-iVAWqY6U"
      },
      "source": [
        "# Linear SVC Model"
      ]
    },
    {
      "cell_type": "code",
      "metadata": {
        "id": "uUIWsSPjqY6V"
      },
      "source": [
        "    #def  svcf(rev2):\n",
        "    from sklearn.svm import LinearSVC\n",
        "    from sklearn.pipeline import Pipeline\n",
        "    from sklearn.metrics import accuracy_score, confusion_matrix\n",
        "    tfidf_v=TfidfVectorizer()\n",
        "    Xsvc=df.Reviews\n",
        "    ysvc=df.Sentiment\n",
        "    X_train, X_test, y_train, y_test = train_test_split(Xsvc, ysvc, test_size=0.25, random_state=365)\n",
        "\n",
        "    modelsvc= Pipeline([('tfidf', TfidfVectorizer()),\n",
        "                     ('svc', LinearSVC()),])\n",
        "    modelsvc.fit(X_train, y_train)\n",
        "    #return modelsvc.predict(rev2['COl'])\n",
        "    \n",
        "    "
      ],
      "execution_count": null,
      "outputs": []
    },
    {
      "cell_type": "code",
      "metadata": {
        "id": "fAcsuOf1qY6V"
      },
      "source": [
        "y_testpredsvc=modelsvc.predict(X_test)\n",
        "y_trainpredsvc=modelsvc.predict(X_train)\n",
        "print('accuracy on train set %s' % accuracy_score(y_train, y_trainpredsvc))\n",
        "print('accuracy on test set %s' % accuracy_score(y_test,y_testpredsvc))\n",
        "report = classification_report(y_test, y_testpredsvc)\n",
        "print('Classification Report  regression: \\n', report)\n",
        "print(confusion_matrix(y_testpredsvc,y_test))\n",
        "   "
      ],
      "execution_count": null,
      "outputs": []
    },
    {
      "cell_type": "code",
      "metadata": {
        "id": "n9xSw5wpqY6W"
      },
      "source": [
        "import seaborn as sns\n",
        "import matplotlib.pyplot as plt     \n",
        "from sklearn.metrics import confusion_matrix\n",
        "cm5=confusion_matrix(y_test, y_testpredsvc)\n",
        "ax= plt.subplot()\n",
        "sns.heatmap(cm5,annot=True, fmt='g', ax=ax);  #annot=True to annotate cells, ftm='g' to disable scientific notation\n",
        "# labels, title and ticks\n",
        "ax.set_xlabel('Predicted labels');ax.set_ylabel('True labels'); \n",
        "ax.set_title('SVC Confusion Matrix'); \n",
        "ax.xaxis.set_ticklabels(['Positive', 'Not positive']); ax.yaxis.set_ticklabels(['Positive', 'Not positive']);"
      ],
      "execution_count": null,
      "outputs": []
    },
    {
      "cell_type": "code",
      "metadata": {
        "id": "sSw5b2EiqY6X"
      },
      "source": [
        "log_train=(model.score(X_train,y_train))*100\n",
        "mnb_train=(modelmnb.score(X_train,y_train))*100\n",
        "lsvc_train=(modelsvc.score(X_train,y_train))*100\n",
        "dtree_train=(modeltree.score(X_train,y_train))*100\n",
        "print(\"log_train= \",log_train,\"\\n mnb_train=\",mnb_train,\"\\nlsvc_train=,\",lsvc_train,\"\\n dtree_train=\",dtree_train)"
      ],
      "execution_count": null,
      "outputs": []
    },
    {
      "cell_type": "code",
      "metadata": {
        "id": "tnHWuq5OqY6a"
      },
      "source": [
        "log_test=(model.score(X_test,y_test))*100\n",
        "mnb_test=(modelmnb.score(X_test,y_test))*100\n",
        "lsvc_test=(modelsvc.score(X_test,y_test))*100\n",
        "dtree_test=(modeltree.score(X_test,y_test))*100\n",
        "print(\"log_test= \",log_test,\"\\n mnb_test=\",mnb_test,\"\\nlsvc_test= \",lsvc_test,\"\\n dtree_test=\",dtree_test)"
      ],
      "execution_count": null,
      "outputs": []
    },
    {
      "cell_type": "code",
      "metadata": {
        "id": "vOtOXNbIqY6b"
      },
      "source": [
        "data= [\"very bad review cannot accept worst experience which i never had. going mad migrane headache suffering severe heart problem, feeling to commit suicide\"]\n",
        "rev = pd.DataFrame(data, columns = ['COl'])\n",
        "rev"
      ],
      "execution_count": null,
      "outputs": []
    },
    {
      "cell_type": "code",
      "metadata": {
        "id": "hHx4h8B1qY6b"
      },
      "source": [
        "slog(rev)"
      ],
      "execution_count": null,
      "outputs": []
    },
    {
      "cell_type": "code",
      "metadata": {
        "id": "asifKSEnqY6c"
      },
      "source": [
        "svcf(rev)"
      ],
      "execution_count": null,
      "outputs": []
    },
    {
      "cell_type": "code",
      "metadata": {
        "id": "rdDiGD1bqY6c"
      },
      "source": [
        "mnbf(rev)"
      ],
      "execution_count": null,
      "outputs": []
    },
    {
      "cell_type": "code",
      "metadata": {
        "id": "PqiYoJpqqY6d"
      },
      "source": [
        "dt(rev)"
      ],
      "execution_count": null,
      "outputs": []
    },
    {
      "cell_type": "code",
      "metadata": {
        "id": "cZKjenfqqY6d"
      },
      "source": [
        "data1= [\"This is an excellent drug with great satisfaction,there is no side effect. it is very effective \"]\n",
        "rev2 = pd.DataFrame(data1, columns = ['COl'])\n",
        "rev2"
      ],
      "execution_count": null,
      "outputs": []
    },
    {
      "cell_type": "code",
      "metadata": {
        "id": "tJin1OgEqY6d"
      },
      "source": [
        "svcf(rev2)"
      ],
      "execution_count": null,
      "outputs": []
    },
    {
      "cell_type": "code",
      "metadata": {
        "id": "jICW-Us_qY6e"
      },
      "source": [
        "slog(rev2)"
      ],
      "execution_count": null,
      "outputs": []
    },
    {
      "cell_type": "code",
      "metadata": {
        "id": "3R-fYAFiqY6e"
      },
      "source": [
        "mnbf(rev2)"
      ],
      "execution_count": null,
      "outputs": []
    },
    {
      "cell_type": "code",
      "metadata": {
        "id": "uM05PzCwqY6e"
      },
      "source": [
        "dt(rev2)"
      ],
      "execution_count": null,
      "outputs": []
    },
    {
      "cell_type": "code",
      "metadata": {
        "id": "9XbWn-p1qY6f"
      },
      "source": [
        "# medicines from cond\n",
        "\n",
        "def get_med():\n",
        "    from sklearn.feature_extraction.text import TfidfVectorizer\n",
        "    from sklearn.ensemble import RandomForestClassifier\n",
        "    from sklearn.model_selection import train_test_split\n",
        "    from sklearn.naive_bayes import MultinomialNB\n",
        "    from sklearn.pipeline import Pipeline\n",
        "    from sklearn import metrics\n",
        "    from sklearn.svm import LinearSVC\n",
        "\n",
        "\n",
        "    Xx = df['Condition']\n",
        "\n",
        "    Yy = df['Drug']\n",
        "    \n",
        "    X_train, X_test, y_train, y_test = train_test_split(Xx, Yy, test_size=0.2, random_state=365)\n",
        "    \n",
        "    rev_clsf= Pipeline([('tfidf', TfidfVectorizer()),\n",
        "                     ('LSVM', LinearSVC()),])\n",
        "    rev_clsf.fit(X_train, y_train)\n",
        "    acc = metrics.accuracy_score(y_test, rev_clsf.predict(X_test))\n",
        "    \n",
        "    return acc"
      ],
      "execution_count": null,
      "outputs": []
    },
    {
      "cell_type": "code",
      "metadata": {
        "id": "xZSkB4t4qY6f"
      },
      "source": [
        "get_med()"
      ],
      "execution_count": null,
      "outputs": []
    },
    {
      "cell_type": "code",
      "metadata": {
        "id": "hNIiwz8ZqY6g"
      },
      "source": [
        "# medicines from cond\n",
        "\n",
        "def got_med():\n",
        "    from sklearn.feature_extraction.text import TfidfVectorizer\n",
        "    from sklearn.ensemble import RandomForestClassifier\n",
        "    from sklearn.model_selection import train_test_split\n",
        "    from sklearn.naive_bayes import MultinomialNB\n",
        "    from sklearn.pipeline import Pipeline\n",
        "    from sklearn import metrics\n",
        "    from sklearn.svm import LinearSVC\n",
        "\n",
        "\n",
        "    Xx = df[['Drug', 'Age', 'Sex','Condition', 'Reviews']].apply(lambda x: ' '.join(x), axis = 1)\n",
        "\n",
        "    Yy = df['Sentiment']\n",
        "    \n",
        "    X_train, X_test, y_train, y_test = train_test_split(Xx, Yy, test_size=0.2, random_state=365)\n",
        "    \n",
        "    rev_clsf= Pipeline([('tfidf', TfidfVectorizer()),\n",
        "                     ('LSVM', LinearSVC()),])\n",
        "    rev_clsf.fit(X_train, y_train)\n",
        "    acc = metrics.accuracy_score(y_test, rev_clsf.predict(X_test))\n",
        "    \n",
        "    return acc"
      ],
      "execution_count": null,
      "outputs": []
    },
    {
      "cell_type": "code",
      "metadata": {
        "id": "-7zcQz77qY6h",
        "outputId": "fe4e8de2-9520-441d-9147-cf88ad3b9745"
      },
      "source": [
        "got_med()"
      ],
      "execution_count": null,
      "outputs": [
        {
          "output_type": "execute_result",
          "data": {
            "text/plain": [
              "0.8597970414499925"
            ]
          },
          "metadata": {
            "tags": []
          },
          "execution_count": 13
        }
      ]
    },
    {
      "cell_type": "code",
      "metadata": {
        "id": "33syXpv1qY6h"
      },
      "source": [
        ""
      ],
      "execution_count": null,
      "outputs": []
    }
  ]
}